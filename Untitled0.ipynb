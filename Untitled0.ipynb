{
  "nbformat": 4,
  "nbformat_minor": 0,
  "metadata": {
    "colab": {
      "provenance": [],
      "authorship_tag": "ABX9TyMBh3hoBZX029E4BDTe1gzE",
      "include_colab_link": true
    },
    "kernelspec": {
      "name": "python3",
      "display_name": "Python 3"
    },
    "language_info": {
      "name": "python"
    }
  },
  "cells": [
    {
      "cell_type": "markdown",
      "metadata": {
        "id": "view-in-github",
        "colab_type": "text"
      },
      "source": [
        "<a href=\"https://colab.research.google.com/github/varaprasadreddy120/AIAC/blob/main/Untitled0.ipynb\" target=\"_parent\"><img src=\"https://colab.research.google.com/assets/colab-badge.svg\" alt=\"Open In Colab\"/></a>"
      ]
    },
    {
      "cell_type": "markdown",
      "source": [
        "Task Description#1\n",
        "● Use Google Gemini in Colab to write a function that reads a CSV file and calculates\n",
        "mean, min, max.\n",
        "Expected Output#1\n",
        "● Functional code with output and screenshot"
      ],
      "metadata": {
        "id": "2bDi7UcXVS1c"
      }
    },
    {
      "cell_type": "code",
      "source": [
        "import pandas as pd\n",
        "\n",
        "def analyze_csv_column(file_path, column_name):\n",
        "  \"\"\"\n",
        "  Reads a CSV file, calculates and returns the min, mean, and max of a specified column.\n",
        "\n",
        "  Args:\n",
        "    file_path (str): The path to the CSV file.\n",
        "    column_name (str): The name of the numerical column to analyze.\n",
        "\n",
        "  Returns:\n",
        "    tuple: A tuple containing the minimum, mean, and maximum values of the column.\n",
        "           Returns (None, None, None) if the column is not found or not numerical.\n",
        "  \"\"\"\n",
        "  try:\n",
        "    df = pd.read_csv(file_path)\n",
        "    if column_name in df.columns:\n",
        "      # Ensure the column is numerical\n",
        "      df[column_name] = pd.to_numeric(df[column_name], errors='coerce')\n",
        "      df.dropna(subset=[column_name], inplace=True) # Drop rows where conversion failed\n",
        "\n",
        "      if not df[column_name].empty:\n",
        "        min_val = df[column_name].min()\n",
        "        mean_val = df[column_name].mean()\n",
        "        max_val = df[column_name].max()\n",
        "        return min_val, mean_val, max_val\n",
        "      else:\n",
        "        print(f\"Column '{column_name}' contains no valid numerical data after coercion.\")\n",
        "        return None, None, None\n",
        "    else:\n",
        "      print(f\"Column '{column_name}' not found in the CSV file.\")\n",
        "      return None, None, None\n",
        "  except FileNotFoundError:\n",
        "    print(f\"Error: File not found at {file_path}\")\n",
        "    return None, None, None\n",
        "  except Exception as e:\n",
        "    print(f\"An error occurred: {e}\")\n",
        "    return None, None, None\n",
        "\n"
      ],
      "metadata": {
        "id": "ZpL6QmnsW931"
      },
      "execution_count": null,
      "outputs": []
    },
    {
      "cell_type": "code",
      "metadata": {
        "colab": {
          "base_uri": "https://localhost:8080/"
        },
        "id": "8199ca29",
        "outputId": "7e3acbc6-30b6-40f4-b6b6-7b1aee73e8aa"
      },
      "source": [
        "\n",
        "file_path = '/content/lab2.csv'\n",
        "column_name = 'marks'\n",
        "\n",
        "min_val, mean_val, max_val = analyze_csv_column(file_path, column_name)\n",
        "\n",
        "if min_val is not None:\n",
        "  print(f\"\\nAnalysis of column '{column_name}' in '{file_path}':\")\n",
        "  print(f\"  Minimum: {min_val}\")\n",
        "  print(f\"  Mean: {mean_val}\")\n",
        "  print(f\"  Maximum: {max_val}\")"
      ],
      "execution_count": 4,
      "outputs": [
        {
          "output_type": "stream",
          "name": "stdout",
          "text": [
            "\n",
            "Analysis of column 'marks' in '/content/lab2.csv':\n",
            "  Minimum: 7\n",
            "  Mean: 27.8\n",
            "  Maximum: 65\n"
          ]
        }
      ]
    },
    {
      "cell_type": "code",
      "source": [],
      "metadata": {
        "id": "KdEPBBf0XwbN"
      },
      "execution_count": null,
      "outputs": []
    }
  ]
}